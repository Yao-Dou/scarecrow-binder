{
 "metadata": {
  "language_info": {
   "codemirror_mode": {
    "name": "ipython",
    "version": 3
   },
   "file_extension": ".py",
   "mimetype": "text/x-python",
   "name": "python",
   "nbconvert_exporter": "python",
   "pygments_lexer": "ipython3",
   "version": "3.8.5"
  },
  "orig_nbformat": 2,
  "kernelspec": {
   "name": "python3",
   "display_name": "Python 3.8.5 64-bit ('oof': conda)"
  },
  "metadata": {
   "interpreter": {
    "hash": "40036fa7fb6262426014e087c2a9a34a90cddd389133fee34037e96aca2ba7d0"
   }
  },
  "interpreter": {
   "hash": "36bcafdd0cd05f954173c17ffea29ad5aa3b20bb1cc690e9b7a08c0b4e967fe8"
  }
 },
 "nbformat": 4,
 "nbformat_minor": 2,
 "cells": [
  {
   "cell_type": "code",
   "execution_count": null,
   "metadata": {},
   "outputs": [],
   "source": [
    "import pandas as pd\n",
    "import qgrid\n",
    "\n",
    "url=\"https://raw.githubusercontent.com/Yao-Dou/scarecrow/main/data/grouped_data.csv\"\n",
    "df=pd.read_csv(url)\n",
    "qgrid.show_grid(df)"
   ]
  }
 ]
}